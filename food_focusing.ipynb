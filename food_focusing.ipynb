{
 "cells": [
  {
   "cell_type": "code",
   "execution_count": 1,
   "metadata": {},
   "outputs": [],
   "source": [
    "import cv2\n",
    "import numpy as np\n",
    "MASK_COLOR = (1.0,1.0,1.0) # In BGR format"
   ]
  },
  {
   "cell_type": "code",
   "execution_count": 31,
   "metadata": {},
   "outputs": [
    {
     "data": {
      "text/plain": [
       "True"
      ]
     },
     "execution_count": 31,
     "metadata": {},
     "output_type": "execute_result"
    }
   ],
   "source": [
    "#-- Read image -----------------------------------------------------------------------\n",
    "img = cv2.imread('food_solo.png')\n",
    "gray = cv2.cvtColor(img,cv2.COLOR_BGR2GRAY)\n",
    "cv2.imwrite('gray.png', gray)"
   ]
  },
  {
   "cell_type": "code",
   "execution_count": 20,
   "metadata": {},
   "outputs": [
    {
     "data": {
      "text/plain": [
       "True"
      ]
     },
     "execution_count": 20,
     "metadata": {},
     "output_type": "execute_result"
    }
   ],
   "source": [
    "#-- 에지 검출 -------------------------------------------------------------------\n",
    "'''\n",
    "cv2.Canny(이미지, 하위 임계값, 상위 임계값)\n",
    "하위 임곗값과 상위 임곗값으로 픽셀이 갖는 최솟값과 최댓값을 설정해 검출 진행\n",
    "픽셀이 상위 임곗값보다 큰 기울기를 가지면 픽셀을 가장자리로 \n",
    "간주하고, 하위 임곗값보다 낮은 경우 가장자리로 고려 x\n",
    "'''\n",
    "edges = cv2.Canny(gray,40, 150)\n",
    "#cv2.imshow('Canny_edge', edges)                                   # Display\n",
    "#cv2.waitKey()\n",
    "\n",
    "cv2.imwrite('Canny_edge.png', edges)\n",
    "\n",
    "#이미지 팽창, erode와 반대, 굵어지는 효과\n",
    "edges = cv2.dilate(edges, None)\n",
    "#cv2.imshow('Canny_dilate', edges)                                   # Display\n",
    "#cv2.waitKey()\n",
    "\n",
    "cv2.imwrite('Canny_dilate.png', edges)\n",
    "\n",
    "#이미지 침식, 흐릿한 경계부분을 배경으로 만드는 작업, 가늘어지는 효과\n",
    "edges = cv2.erode(edges, None)\n",
    "#cv2.imshow('Canny_erode', edges)                                   # Display\n",
    "#cv2.waitKey()\n",
    "\n",
    "cv2.imwrite('Canny_erode.png', edges)"
   ]
  },
  {
   "cell_type": "code",
   "execution_count": 29,
   "metadata": {},
   "outputs": [
    {
     "data": {
      "text/plain": [
       "True"
      ]
     },
     "execution_count": 29,
     "metadata": {},
     "output_type": "execute_result"
    }
   ],
   "source": [
    "#-- 에지의 윤곽 검출 및 영역 정렬---------------------------------------------\n",
    "contour_info = []\n",
    "contours, _ = cv2.findContours(edges, cv2.RETR_EXTERNAL, cv2.CHAIN_APPROX_NONE)\n",
    "for c in contours:\n",
    "    contour_info.append((\n",
    "        c,\n",
    "        cv2.contourArea(c),\n",
    "    ))\n",
    "contour_info = sorted(contour_info, key=lambda c: c[1], reverse=True)\n",
    "max_contour = contour_info[0]\n",
    "\n",
    "img_draw_contour=cv2.drawContours(gray, max_contour[0], -1, (0,255,0), 3)\n",
    "cv2.imwrite('img_draw_contour.png', img_draw_contour)"
   ]
  },
  {
   "cell_type": "code",
   "execution_count": 23,
   "metadata": {},
   "outputs": [
    {
     "data": {
      "text/plain": [
       "True"
      ]
     },
     "execution_count": 23,
     "metadata": {},
     "output_type": "execute_result"
    }
   ],
   "source": [
    "#-- 빈 마스크를 작성하고 가장 큰 윤곽선에 해당하는 채워진 다각형 생성  ----\n",
    "# 마스크 = 검정색, 다각형 = 하얀색\n",
    "mask = np.zeros(edges.shape)\n",
    "cv2.fillConvexPoly(mask, max_contour[0], (255))\n",
    "#cv2.imshow('fill_mask', mask)                                   # Display\n",
    "#cv2.waitKey()\n",
    "\n",
    "cv2.imwrite('fill_mask.png', mask)"
   ]
  },
  {
   "cell_type": "code",
   "execution_count": 24,
   "metadata": {},
   "outputs": [],
   "source": [
    "#-- 마스크 스무딩 후 블러 처리 --------------------------------------------------------\n",
    "mask = cv2.dilate(mask, None, iterations=10) #MASK_DILATE_ITER\n",
    "#cv2.imshow('mask_dilate', mask)                                   # Display\n",
    "#cv2.waitKey()\n",
    "\n",
    "cv2.imwrite('mask_dilate.png', mask)\n",
    "\n",
    "mask = cv2.erode(mask, None, iterations=10)  #MASK_ERODE_ITER\n",
    "#cv2.imshow('mask_erode', mask)                                   # Display\n",
    "#cv2.waitKey()\n",
    "\n",
    "cv2.imwrite('mask_erode.png', mask)\n",
    "\n",
    "mask = cv2.GaussianBlur(mask, (21, 21), 0)\n",
    "#cv2.imshow('mask_Gaussian', mask)                                   # Display\n",
    "#cv2.waitKey()\n",
    "\n",
    "cv2.imwrite('mask_Gaussian.png', mask)\n",
    "\n",
    "mask_stack = np.dstack([mask]*3)    # Create 3-channel alpha mask"
   ]
  },
  {
   "cell_type": "code",
   "execution_count": 25,
   "metadata": {},
   "outputs": [
    {
     "data": {
      "text/plain": [
       "True"
      ]
     },
     "execution_count": 25,
     "metadata": {},
     "output_type": "execute_result"
    }
   ],
   "source": [
    "#-- 마스크된 img를 MASK_COLOR 배경에 혼합 --------------------------------------\n",
    "mask_stack  = mask_stack.astype('float32') / 255.0          # Use float matrices, \n",
    "img         = img.astype('float32') / 255.0                 #  for easy blending\n",
    "\n",
    "#오브젝트 추출\n",
    "masked = (mask_stack * img) + ((1-mask_stack) * MASK_COLOR) # Blend\n",
    "masked = (masked * 255).astype('uint8')                     # Convert back to 8-bit \n",
    "#cv2.imshow('img_obj', masked)                                   # Display\n",
    "#cv2.waitKey()\n",
    "\n",
    "#배경 추출\n",
    "back_masked = ((1-mask_stack) * img) + ((mask_stack) * MASK_COLOR)\n",
    "back_masked = (back_masked * 255).astype('uint8')\n",
    "#cv2.imshow('img_bg', back_masked)                                   # Display\n",
    "#cv2.waitKey()\n",
    "\n",
    "#이미지 저장\n",
    "cv2.imwrite('only_coffee.png', masked)           # Save\n",
    "cv2.imwrite('background.png', back_masked)           "
   ]
  },
  {
   "cell_type": "code",
   "execution_count": 26,
   "metadata": {},
   "outputs": [
    {
     "data": {
      "text/plain": [
       "True"
      ]
     },
     "execution_count": 26,
     "metadata": {},
     "output_type": "execute_result"
    }
   ],
   "source": [
    "#배경 블러처리\n",
    "img_blur = cv2.blur(back_masked,(13,13))\n",
    "#cv2.imshow('img_blur', img_blur)                                   # Display\n",
    "#cv2.waitKey()\n",
    "\n",
    "cv2.imwrite('img_blur.png', img_blur)  "
   ]
  },
  {
   "cell_type": "code",
   "execution_count": 27,
   "metadata": {},
   "outputs": [
    {
     "data": {
      "text/plain": [
       "True"
      ]
     },
     "execution_count": 27,
     "metadata": {},
     "output_type": "execute_result"
    }
   ],
   "source": [
    "#이미지 합성\n",
    "#img_blur + masked\n",
    "bit_and = cv2.bitwise_and(img_blur, masked)\n",
    "#cv2.imshow('img_and', bit_and)                                   # Display\n",
    "#cv2.waitKey()\n",
    "cv2.imwrite('mixed.png', bit_and)"
   ]
  },
  {
   "cell_type": "code",
   "execution_count": null,
   "metadata": {},
   "outputs": [],
   "source": []
  }
 ],
 "metadata": {
  "kernelspec": {
   "display_name": "Python 3",
   "language": "python",
   "name": "python3"
  },
  "language_info": {
   "codemirror_mode": {
    "name": "ipython",
    "version": 3
   },
   "file_extension": ".py",
   "mimetype": "text/x-python",
   "name": "python",
   "nbconvert_exporter": "python",
   "pygments_lexer": "ipython3",
   "version": "3.8.5"
  }
 },
 "nbformat": 4,
 "nbformat_minor": 4
}
